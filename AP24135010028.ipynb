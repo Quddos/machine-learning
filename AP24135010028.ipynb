{
  "nbformat": 4,
  "nbformat_minor": 0,
  "metadata": {
    "colab": {
      "provenance": [],
      "authorship_tag": "ABX9TyOoK09ZpjhOm8Qf8UP4a06W",
      "include_colab_link": true
    },
    "kernelspec": {
      "name": "python3",
      "display_name": "Python 3"
    },
    "language_info": {
      "name": "python"
    }
  },
  "cells": [
    {
      "cell_type": "markdown",
      "metadata": {
        "id": "view-in-github",
        "colab_type": "text"
      },
      "source": [
        "<a href=\"https://colab.research.google.com/github/Quddos/machine-learning/blob/main/AP24135010028.ipynb\" target=\"_parent\"><img src=\"https://colab.research.google.com/assets/colab-badge.svg\" alt=\"Open In Colab\"/></a>"
      ]
    },
    {
      "cell_type": "markdown",
      "source": [
        "**Decision Tree Classifier for classification of Iris dataset***"
      ],
      "metadata": {
        "id": "6dUO-TaxrjsI"
      }
    },
    {
      "cell_type": "code",
      "execution_count": 8,
      "metadata": {
        "colab": {
          "base_uri": "https://localhost:8080/"
        },
        "id": "puSdOH-hqwJS",
        "outputId": "262f7185-f4de-44db-e8c3-2aeaecca32fc"
      },
      "outputs": [
        {
          "output_type": "stream",
          "name": "stdout",
          "text": [
            "Confusion Matrix:\n",
            " [[19  0  0]\n",
            " [ 0 13  0]\n",
            " [ 0  0 13]]\n",
            "Accuracies of Decision Tree Classifier: 1.0\n"
          ]
        }
      ],
      "source": [
        "# 1. Import required libraries\n",
        "import pandas as pd\n",
        "from sklearn.datasets import load_iris\n",
        "from sklearn.model_selection import train_test_split\n",
        "from sklearn.tree import DecisionTreeClassifier\n",
        "from sklearn.metrics import accuracy_score, confusion_matrix\n",
        "# a. Load the Iris dataset\n",
        "iris = load_iris()\n",
        "X = iris.data # Features\n",
        "y = iris.target # Labels\n",
        "# b. Split the dataset into train (70%) and test (30%) sets\n",
        "X_train, X_test, y_train, y_test = train_test_split(X, y, test_size=0.3, random_state=42)\n",
        "# c. Train a Decision Tree Classifier using train set\n",
        "dt_model = DecisionTreeClassifier(random_state=42)\n",
        "dt_model.fit(X_train, y_train)\n",
        "# d. Test the model using test set\n",
        "y_pred = dt_model.predict(X_test)\n",
        "# e. Find accuracy and confusion matrix\n",
        "accuracy = accuracy_score(y_test, y_pred)\n",
        "conf_matrix = confusion_matrix(y_test, y_pred)\n",
        "\n",
        "print(\"Confusion Matrix:\\n\", conf_matrix )\n",
        "print(\"Accuracies of Decision Tree Classifier:\", accuracy)"
      ]
    }
  ]
}