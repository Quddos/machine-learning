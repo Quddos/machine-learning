{
  "nbformat": 4,
  "nbformat_minor": 0,
  "metadata": {
    "colab": {
      "provenance": [],
      "authorship_tag": "ABX9TyPn/lGam90MdhaRK0NyKDYD",
      "include_colab_link": true
    },
    "kernelspec": {
      "name": "python3",
      "display_name": "Python 3"
    },
    "language_info": {
      "name": "python"
    }
  },
  "cells": [
    {
      "cell_type": "markdown",
      "metadata": {
        "id": "view-in-github",
        "colab_type": "text"
      },
      "source": [
        "<a href=\"https://colab.research.google.com/github/Quddos/machine-learning/blob/main/AP24135010028.ipynb\" target=\"_parent\"><img src=\"https://colab.research.google.com/assets/colab-badge.svg\" alt=\"Open In Colab\"/></a>"
      ]
    },
    {
      "cell_type": "markdown",
      "source": [
        "**Q1:** A program to compute the mean and variance of the elements present in the array."
      ],
      "metadata": {
        "id": "4nx3xNgcF5y9"
      }
    },
    {
      "cell_type": "code",
      "execution_count": 2,
      "metadata": {
        "colab": {
          "base_uri": "https://localhost:8080/",
          "height": 0
        },
        "id": "hojuSz_9AZMp",
        "outputId": "6b3fd4cc-1d2f-44b5-fccf-25deef161379"
      },
      "outputs": [
        {
          "output_type": "stream",
          "name": "stdout",
          "text": [
            "Vector X: [ 2  4  6  8 10]\n",
            "Mean of X: 6.0\n",
            "Variance of X: 8.0\n"
          ]
        }
      ],
      "source": [
        "import numpy as np\n",
        "\n",
        "# Step 1: Create a 1xN vector (array)\n",
        "X = np.array([2, 4, 6, 8, 10])  # Example vector\n",
        "\n",
        "# Step 2: Compute mean\n",
        "mean_X = np.mean(X)\n",
        "\n",
        "# Step 3: Compute variance\n",
        "variance_X = np.var(X)\n",
        "\n",
        "# Step 4: Print results\n",
        "print(\"Vector X:\", X)\n",
        "print(\"Mean of X:\", mean_X)\n",
        "print(\"Variance of X:\", variance_X)\n"
      ]
    },
    {
      "cell_type": "code",
      "source": [
        "import numpy as np\n",
        "\n",
        "# Step 1: Define vectors\n",
        "X = np.array([2, 4, 6, 8, 10])\n",
        "Y = np.array([1, 3, 5, 7, 9])\n",
        "\n",
        "# Step 2: Compute covariance manually\n",
        "mean_X = np.mean(X)\n",
        "mean_Y = np.mean(Y)\n",
        "cov_manual = np.sum((X - mean_X) * (Y - mean_Y)) / len(X)\n",
        "\n",
        "# Step 3: Compute covariance using NumPy\n",
        "cov_matrix = np.cov(X, Y, bias=True)  # bias=True for population covariance\n",
        "cov_numpy = cov_matrix[0, 1]\n",
        "\n",
        "# Step 4: Print results\n",
        "print(\"Vector X:\", X)\n",
        "print(\"Vector Y:\", Y)\n",
        "print(\"Mean of X:\", mean_X, \"Mean of Y:\", mean_Y)\n",
        "print(\"Covariance (Manual):\", cov_manual)\n",
        "print(\"Covariance (NumPy):\", cov_numpy)\n"
      ],
      "metadata": {
        "colab": {
          "base_uri": "https://localhost:8080/",
          "height": 0
        },
        "id": "Rp-f4ZowAi8N",
        "outputId": "121081b7-9c08-4bf5-b440-4e11521c90c0"
      },
      "execution_count": 3,
      "outputs": [
        {
          "output_type": "stream",
          "name": "stdout",
          "text": [
            "Vector X: [ 2  4  6  8 10]\n",
            "Vector Y: [1 3 5 7 9]\n",
            "Mean of X: 6.0 Mean of Y: 5.0\n",
            "Covariance (Manual): 8.0\n",
            "Covariance (NumPy): 8.0\n"
          ]
        }
      ]
    }
  ]
}